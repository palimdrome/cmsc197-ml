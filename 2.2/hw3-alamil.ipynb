{
 "cells": [
  {
   "cell_type": "markdown",
   "id": "1b9cd1fa",
   "metadata": {},
   "source": [
    "## Part 1. Application"
   ]
  },
  {
   "cell_type": "markdown",
   "id": "3470ec34",
   "metadata": {},
   "source": [
    "### 0. Importing libraries"
   ]
  },
  {
   "cell_type": "code",
   "execution_count": 1,
   "id": "5cdaa82d",
   "metadata": {},
   "outputs": [],
   "source": [
    "##### Standard Libraries #####\n",
    "import numpy as np\n",
    "import pandas as pd\n",
    "import matplotlib.pyplot as plt\n",
    "\n",
    "%matplotlib inline\n",
    "\n",
    "from sklearn.model_selection import train_test_split\n",
    "\n",
    "from sklearn.metrics import r2_score"
   ]
  },
  {
   "cell_type": "markdown",
   "id": "2010ddf6",
   "metadata": {},
   "source": [
    "### 1. Loading the Advertising.csv dataset using pandas"
   ]
  },
  {
   "cell_type": "code",
   "execution_count": 2,
   "id": "1deb891b",
   "metadata": {},
   "outputs": [
    {
     "data": {
      "text/html": [
       "<div>\n",
       "<style scoped>\n",
       "    .dataframe tbody tr th:only-of-type {\n",
       "        vertical-align: middle;\n",
       "    }\n",
       "\n",
       "    .dataframe tbody tr th {\n",
       "        vertical-align: top;\n",
       "    }\n",
       "\n",
       "    .dataframe thead th {\n",
       "        text-align: right;\n",
       "    }\n",
       "</style>\n",
       "<table border=\"1\" class=\"dataframe\">\n",
       "  <thead>\n",
       "    <tr style=\"text-align: right;\">\n",
       "      <th></th>\n",
       "      <th>TV</th>\n",
       "      <th>Radio</th>\n",
       "      <th>Newspaper</th>\n",
       "      <th>Sales</th>\n",
       "    </tr>\n",
       "  </thead>\n",
       "  <tbody>\n",
       "    <tr>\n",
       "      <th>1</th>\n",
       "      <td>230.1</td>\n",
       "      <td>37.8</td>\n",
       "      <td>69.2</td>\n",
       "      <td>22.1</td>\n",
       "    </tr>\n",
       "    <tr>\n",
       "      <th>2</th>\n",
       "      <td>44.5</td>\n",
       "      <td>39.3</td>\n",
       "      <td>45.1</td>\n",
       "      <td>10.4</td>\n",
       "    </tr>\n",
       "    <tr>\n",
       "      <th>3</th>\n",
       "      <td>17.2</td>\n",
       "      <td>45.9</td>\n",
       "      <td>69.3</td>\n",
       "      <td>9.3</td>\n",
       "    </tr>\n",
       "    <tr>\n",
       "      <th>4</th>\n",
       "      <td>151.5</td>\n",
       "      <td>41.3</td>\n",
       "      <td>58.5</td>\n",
       "      <td>18.5</td>\n",
       "    </tr>\n",
       "    <tr>\n",
       "      <th>5</th>\n",
       "      <td>180.8</td>\n",
       "      <td>10.8</td>\n",
       "      <td>58.4</td>\n",
       "      <td>12.9</td>\n",
       "    </tr>\n",
       "    <tr>\n",
       "      <th>...</th>\n",
       "      <td>...</td>\n",
       "      <td>...</td>\n",
       "      <td>...</td>\n",
       "      <td>...</td>\n",
       "    </tr>\n",
       "    <tr>\n",
       "      <th>196</th>\n",
       "      <td>38.2</td>\n",
       "      <td>3.7</td>\n",
       "      <td>13.8</td>\n",
       "      <td>7.6</td>\n",
       "    </tr>\n",
       "    <tr>\n",
       "      <th>197</th>\n",
       "      <td>94.2</td>\n",
       "      <td>4.9</td>\n",
       "      <td>8.1</td>\n",
       "      <td>9.7</td>\n",
       "    </tr>\n",
       "    <tr>\n",
       "      <th>198</th>\n",
       "      <td>177.0</td>\n",
       "      <td>9.3</td>\n",
       "      <td>6.4</td>\n",
       "      <td>12.8</td>\n",
       "    </tr>\n",
       "    <tr>\n",
       "      <th>199</th>\n",
       "      <td>283.6</td>\n",
       "      <td>42.0</td>\n",
       "      <td>66.2</td>\n",
       "      <td>25.5</td>\n",
       "    </tr>\n",
       "    <tr>\n",
       "      <th>200</th>\n",
       "      <td>232.1</td>\n",
       "      <td>8.6</td>\n",
       "      <td>8.7</td>\n",
       "      <td>13.4</td>\n",
       "    </tr>\n",
       "  </tbody>\n",
       "</table>\n",
       "<p>200 rows × 4 columns</p>\n",
       "</div>"
      ],
      "text/plain": [
       "        TV  Radio  Newspaper  Sales\n",
       "1    230.1   37.8       69.2   22.1\n",
       "2     44.5   39.3       45.1   10.4\n",
       "3     17.2   45.9       69.3    9.3\n",
       "4    151.5   41.3       58.5   18.5\n",
       "5    180.8   10.8       58.4   12.9\n",
       "..     ...    ...        ...    ...\n",
       "196   38.2    3.7       13.8    7.6\n",
       "197   94.2    4.9        8.1    9.7\n",
       "198  177.0    9.3        6.4   12.8\n",
       "199  283.6   42.0       66.2   25.5\n",
       "200  232.1    8.6        8.7   13.4\n",
       "\n",
       "[200 rows x 4 columns]"
      ]
     },
     "execution_count": 2,
     "metadata": {},
     "output_type": "execute_result"
    }
   ],
   "source": [
    "df = pd.read_csv(\"Advertising.csv\", index_col = 0)\n",
    "df"
   ]
  },
  {
   "cell_type": "markdown",
   "id": "754d738c",
   "metadata": {},
   "source": [
    "### 2. Standardizing each column of the dataset"
   ]
  },
  {
   "cell_type": "code",
   "execution_count": 3,
   "id": "2c881977",
   "metadata": {},
   "outputs": [
    {
     "data": {
      "text/html": [
       "<div>\n",
       "<style scoped>\n",
       "    .dataframe tbody tr th:only-of-type {\n",
       "        vertical-align: middle;\n",
       "    }\n",
       "\n",
       "    .dataframe tbody tr th {\n",
       "        vertical-align: top;\n",
       "    }\n",
       "\n",
       "    .dataframe thead th {\n",
       "        text-align: right;\n",
       "    }\n",
       "</style>\n",
       "<table border=\"1\" class=\"dataframe\">\n",
       "  <thead>\n",
       "    <tr style=\"text-align: right;\">\n",
       "      <th></th>\n",
       "      <th>TV</th>\n",
       "      <th>Radio</th>\n",
       "      <th>Newspaper</th>\n",
       "      <th>Sales</th>\n",
       "    </tr>\n",
       "  </thead>\n",
       "  <tbody>\n",
       "    <tr>\n",
       "      <th>1</th>\n",
       "      <td>0.967425</td>\n",
       "      <td>0.979066</td>\n",
       "      <td>1.774493</td>\n",
       "      <td>1.548168</td>\n",
       "    </tr>\n",
       "    <tr>\n",
       "      <th>2</th>\n",
       "      <td>-1.194379</td>\n",
       "      <td>1.080097</td>\n",
       "      <td>0.667903</td>\n",
       "      <td>-0.694304</td>\n",
       "    </tr>\n",
       "    <tr>\n",
       "      <th>3</th>\n",
       "      <td>-1.512360</td>\n",
       "      <td>1.524637</td>\n",
       "      <td>1.779084</td>\n",
       "      <td>-0.905135</td>\n",
       "    </tr>\n",
       "    <tr>\n",
       "      <th>4</th>\n",
       "      <td>0.051919</td>\n",
       "      <td>1.214806</td>\n",
       "      <td>1.283185</td>\n",
       "      <td>0.858177</td>\n",
       "    </tr>\n",
       "    <tr>\n",
       "      <th>5</th>\n",
       "      <td>0.393196</td>\n",
       "      <td>-0.839507</td>\n",
       "      <td>1.278593</td>\n",
       "      <td>-0.215143</td>\n",
       "    </tr>\n",
       "    <tr>\n",
       "      <th>...</th>\n",
       "      <td>...</td>\n",
       "      <td>...</td>\n",
       "      <td>...</td>\n",
       "      <td>...</td>\n",
       "    </tr>\n",
       "    <tr>\n",
       "      <th>196</th>\n",
       "      <td>-1.267759</td>\n",
       "      <td>-1.317724</td>\n",
       "      <td>-0.769287</td>\n",
       "      <td>-1.230964</td>\n",
       "    </tr>\n",
       "    <tr>\n",
       "      <th>197</th>\n",
       "      <td>-0.615491</td>\n",
       "      <td>-1.236899</td>\n",
       "      <td>-1.031011</td>\n",
       "      <td>-0.828469</td>\n",
       "    </tr>\n",
       "    <tr>\n",
       "      <th>198</th>\n",
       "      <td>0.348934</td>\n",
       "      <td>-0.940539</td>\n",
       "      <td>-1.109069</td>\n",
       "      <td>-0.234310</td>\n",
       "    </tr>\n",
       "    <tr>\n",
       "      <th>199</th>\n",
       "      <td>1.590574</td>\n",
       "      <td>1.261955</td>\n",
       "      <td>1.636743</td>\n",
       "      <td>2.199827</td>\n",
       "    </tr>\n",
       "    <tr>\n",
       "      <th>200</th>\n",
       "      <td>0.990720</td>\n",
       "      <td>-0.987687</td>\n",
       "      <td>-1.003461</td>\n",
       "      <td>-0.119311</td>\n",
       "    </tr>\n",
       "  </tbody>\n",
       "</table>\n",
       "<p>200 rows × 4 columns</p>\n",
       "</div>"
      ],
      "text/plain": [
       "           TV     Radio  Newspaper     Sales\n",
       "1    0.967425  0.979066   1.774493  1.548168\n",
       "2   -1.194379  1.080097   0.667903 -0.694304\n",
       "3   -1.512360  1.524637   1.779084 -0.905135\n",
       "4    0.051919  1.214806   1.283185  0.858177\n",
       "5    0.393196 -0.839507   1.278593 -0.215143\n",
       "..        ...       ...        ...       ...\n",
       "196 -1.267759 -1.317724  -0.769287 -1.230964\n",
       "197 -0.615491 -1.236899  -1.031011 -0.828469\n",
       "198  0.348934 -0.940539  -1.109069 -0.234310\n",
       "199  1.590574  1.261955   1.636743  2.199827\n",
       "200  0.990720 -0.987687  -1.003461 -0.119311\n",
       "\n",
       "[200 rows x 4 columns]"
      ]
     },
     "execution_count": 3,
     "metadata": {},
     "output_type": "execute_result"
    }
   ],
   "source": [
    "norm_df = (df-df.mean())/df.std()\n",
    "norm_df"
   ]
  },
  {
   "cell_type": "markdown",
   "id": "ba61eefc",
   "metadata": {},
   "source": [
    "### 3. Adding an extra column composing of all ones to X"
   ]
  },
  {
   "cell_type": "code",
   "execution_count": 4,
   "id": "814b18fc",
   "metadata": {},
   "outputs": [
    {
     "data": {
      "text/html": [
       "<div>\n",
       "<style scoped>\n",
       "    .dataframe tbody tr th:only-of-type {\n",
       "        vertical-align: middle;\n",
       "    }\n",
       "\n",
       "    .dataframe tbody tr th {\n",
       "        vertical-align: top;\n",
       "    }\n",
       "\n",
       "    .dataframe thead th {\n",
       "        text-align: right;\n",
       "    }\n",
       "</style>\n",
       "<table border=\"1\" class=\"dataframe\">\n",
       "  <thead>\n",
       "    <tr style=\"text-align: right;\">\n",
       "      <th></th>\n",
       "      <th>Bias</th>\n",
       "      <th>TV</th>\n",
       "      <th>Radio</th>\n",
       "      <th>Newspaper</th>\n",
       "    </tr>\n",
       "  </thead>\n",
       "  <tbody>\n",
       "    <tr>\n",
       "      <th>1</th>\n",
       "      <td>1</td>\n",
       "      <td>0.967425</td>\n",
       "      <td>0.979066</td>\n",
       "      <td>1.774493</td>\n",
       "    </tr>\n",
       "    <tr>\n",
       "      <th>2</th>\n",
       "      <td>1</td>\n",
       "      <td>-1.194379</td>\n",
       "      <td>1.080097</td>\n",
       "      <td>0.667903</td>\n",
       "    </tr>\n",
       "    <tr>\n",
       "      <th>3</th>\n",
       "      <td>1</td>\n",
       "      <td>-1.512360</td>\n",
       "      <td>1.524637</td>\n",
       "      <td>1.779084</td>\n",
       "    </tr>\n",
       "    <tr>\n",
       "      <th>4</th>\n",
       "      <td>1</td>\n",
       "      <td>0.051919</td>\n",
       "      <td>1.214806</td>\n",
       "      <td>1.283185</td>\n",
       "    </tr>\n",
       "    <tr>\n",
       "      <th>5</th>\n",
       "      <td>1</td>\n",
       "      <td>0.393196</td>\n",
       "      <td>-0.839507</td>\n",
       "      <td>1.278593</td>\n",
       "    </tr>\n",
       "    <tr>\n",
       "      <th>...</th>\n",
       "      <td>...</td>\n",
       "      <td>...</td>\n",
       "      <td>...</td>\n",
       "      <td>...</td>\n",
       "    </tr>\n",
       "    <tr>\n",
       "      <th>196</th>\n",
       "      <td>1</td>\n",
       "      <td>-1.267759</td>\n",
       "      <td>-1.317724</td>\n",
       "      <td>-0.769287</td>\n",
       "    </tr>\n",
       "    <tr>\n",
       "      <th>197</th>\n",
       "      <td>1</td>\n",
       "      <td>-0.615491</td>\n",
       "      <td>-1.236899</td>\n",
       "      <td>-1.031011</td>\n",
       "    </tr>\n",
       "    <tr>\n",
       "      <th>198</th>\n",
       "      <td>1</td>\n",
       "      <td>0.348934</td>\n",
       "      <td>-0.940539</td>\n",
       "      <td>-1.109069</td>\n",
       "    </tr>\n",
       "    <tr>\n",
       "      <th>199</th>\n",
       "      <td>1</td>\n",
       "      <td>1.590574</td>\n",
       "      <td>1.261955</td>\n",
       "      <td>1.636743</td>\n",
       "    </tr>\n",
       "    <tr>\n",
       "      <th>200</th>\n",
       "      <td>1</td>\n",
       "      <td>0.990720</td>\n",
       "      <td>-0.987687</td>\n",
       "      <td>-1.003461</td>\n",
       "    </tr>\n",
       "  </tbody>\n",
       "</table>\n",
       "<p>200 rows × 4 columns</p>\n",
       "</div>"
      ],
      "text/plain": [
       "     Bias        TV     Radio  Newspaper\n",
       "1       1  0.967425  0.979066   1.774493\n",
       "2       1 -1.194379  1.080097   0.667903\n",
       "3       1 -1.512360  1.524637   1.779084\n",
       "4       1  0.051919  1.214806   1.283185\n",
       "5       1  0.393196 -0.839507   1.278593\n",
       "..    ...       ...       ...        ...\n",
       "196     1 -1.267759 -1.317724  -0.769287\n",
       "197     1 -0.615491 -1.236899  -1.031011\n",
       "198     1  0.348934 -0.940539  -1.109069\n",
       "199     1  1.590574  1.261955   1.636743\n",
       "200     1  0.990720 -0.987687  -1.003461\n",
       "\n",
       "[200 rows x 4 columns]"
      ]
     },
     "execution_count": 4,
     "metadata": {},
     "output_type": "execute_result"
    }
   ],
   "source": [
    "x = norm_df.drop(\"Sales\", axis = 1)\n",
    "x.insert(0, 'Bias', [1]*len(x))\n",
    "x"
   ]
  },
  {
   "cell_type": "code",
   "execution_count": 5,
   "id": "ecc48bc5",
   "metadata": {},
   "outputs": [
    {
     "data": {
      "text/plain": [
       "1      1.548168\n",
       "2     -0.694304\n",
       "3     -0.905135\n",
       "4      0.858177\n",
       "5     -0.215143\n",
       "         ...   \n",
       "196   -1.230964\n",
       "197   -0.828469\n",
       "198   -0.234310\n",
       "199    2.199827\n",
       "200   -0.119311\n",
       "Name: Sales, Length: 200, dtype: float64"
      ]
     },
     "execution_count": 5,
     "metadata": {},
     "output_type": "execute_result"
    }
   ],
   "source": [
    "y = norm_df[\"Sales\"]\n",
    "y"
   ]
  },
  {
   "cell_type": "markdown",
   "id": "40cafd3a",
   "metadata": {},
   "source": [
    "### 4. Divide the dataset into training and testing, with 0.75 and 0.25 ratio, respectively."
   ]
  },
  {
   "cell_type": "code",
   "execution_count": 8,
   "id": "cbb08aa7",
   "metadata": {},
   "outputs": [],
   "source": [
    "x_train, x_test, y_train, y_test = train_test_split(x, y, test_size=0.25, random_state = 42)\n",
    "# x_train"
   ]
  },
  {
   "cell_type": "markdown",
   "id": "b0b8a960",
   "metadata": {},
   "source": [
    "### 5. Fit the model on the training set"
   ]
  },
  {
   "cell_type": "markdown",
   "id": "ba80123a",
   "metadata": {},
   "source": [
    "#### 5.1 initialize_weights"
   ]
  },
  {
   "cell_type": "code",
   "execution_count": 6,
   "id": "e62e50f3",
   "metadata": {},
   "outputs": [
    {
     "name": "stdout",
     "output_type": "stream",
     "text": [
      "[0.8734294  0.96854066 0.86919454 0.53085569]\n"
     ]
    }
   ],
   "source": [
    "def initialize_weights():\n",
    "    np.random.seed(8)\n",
    "    init_w = np.random.uniform(0, 1, size = 4)\n",
    "    return init_w\n",
    "\n",
    "weights = initialize_weights()\n",
    "print(weights)"
   ]
  },
  {
   "cell_type": "markdown",
   "id": "b3886a6f",
   "metadata": {},
   "source": [
    "#### 5.2 predict"
   ]
  },
  {
   "cell_type": "code",
   "execution_count": 10,
   "id": "8606a54b",
   "metadata": {},
   "outputs": [
    {
     "name": "stdout",
     "output_type": "stream",
     "text": [
      "            0\n",
      "0    1.570882\n",
      "1   -0.264696\n",
      "2    1.896971\n",
      "3    0.706624\n",
      "4   -1.622646\n",
      "..        ...\n",
      "145 -1.242161\n",
      "146  2.457737\n",
      "147  2.963164\n",
      "148 -0.009504\n",
      "149  1.381803\n",
      "\n",
      "[150 rows x 1 columns]\n"
     ]
    }
   ],
   "source": [
    "def predict(x, weights):\n",
    "    predicted = np.dot(x, weights)\n",
    "    return predicted\n",
    "    \n",
    "weights = initialize_weights()\n",
    "y_hat = predict(x_train, weights)\n",
    "print(pd.DataFrame(y_hat))"
   ]
  },
  {
   "cell_type": "markdown",
   "id": "a8ef2e6b",
   "metadata": {},
   "source": [
    "#### 5.3 compute_cost"
   ]
  },
  {
   "cell_type": "code",
   "execution_count": 11,
   "id": "4067bebd",
   "metadata": {},
   "outputs": [
    {
     "name": "stdout",
     "output_type": "stream",
     "text": [
      "0.7177310548049948\n"
     ]
    }
   ],
   "source": [
    "def compute_cost(y, y_hat):\n",
    "    cost = (np.sum((y_hat - y)**2))/(2*len(y))\n",
    "    return cost\n",
    "\n",
    "print(compute_cost(y_train, y_hat))"
   ]
  },
  {
   "cell_type": "markdown",
   "id": "298f1768",
   "metadata": {},
   "source": [
    "#### 5.4 compute_gradient"
   ]
  },
  {
   "cell_type": "code",
   "execution_count": 12,
   "id": "44bc785a",
   "metadata": {},
   "outputs": [
    {
     "name": "stdout",
     "output_type": "stream",
     "text": [
      "(4,)\n",
      "[0.89740251 0.29905896 0.53700875 0.58516013]\n"
     ]
    }
   ],
   "source": [
    "def compute_gradient(y_hat, y, x):\n",
    "    predictors = ['Bias', 'TV', 'Radio', 'Newspaper']\n",
    "    w = np.zeros((4,))\n",
    "    for i in range(len(predictors)):\n",
    "        w[i] = (np.sum(np.dot((y_hat - y), x[predictors[i]])))/(len(x[predictors[i]]))\n",
    "    return w\n",
    "\n",
    "gradients = compute_gradient(y_hat, y_train, x_train)\n",
    "print(np.shape(gradients))\n",
    "print(gradients)"
   ]
  },
  {
   "cell_type": "markdown",
   "id": "59558b28",
   "metadata": {},
   "source": [
    "#### 5.5 update_weights"
   ]
  },
  {
   "cell_type": "code",
   "execution_count": 13,
   "id": "a23254ea",
   "metadata": {},
   "outputs": [
    {
     "name": "stdout",
     "output_type": "stream",
     "text": [
      "(4,)\n",
      "[0.86445538 0.96555007 0.86382445 0.52500409]\n"
     ]
    }
   ],
   "source": [
    "def update_weights(weights, gradients, a):\n",
    "    for i in range(len(gradients)):\n",
    "        weights[i] = weights[i] - a*gradients[i]\n",
    "    return weights\n",
    "\n",
    "updated_weights = update_weights(weights, gradients, 0.01)\n",
    "print(np.shape(updated_weights))\n",
    "print(updated_weights)"
   ]
  },
  {
   "cell_type": "markdown",
   "id": "8bb1fbbf",
   "metadata": {},
   "source": [
    "#### 5.6 grad_descent"
   ]
  },
  {
   "cell_type": "code",
   "execution_count": 238,
   "id": "77d6dece",
   "metadata": {},
   "outputs": [],
   "source": [
    "def grad_descent(num_iter, y, x, a):\n",
    "    \n",
    "    weights = initialize_weights()\n",
    "    \n",
    "    costs_per_iter = np.zeros((num_iter,))\n",
    "    weights_per_iter = np.zeros((num_iter, 4))\n",
    "    r2 = np.zeros((num_iter,))\n",
    "    \n",
    "    for i in range(0, num_iter):\n",
    "        \n",
    "        weights_per_iter[i] = weights\n",
    "        \n",
    "        y_hat = predict(x, weights)\n",
    "        \n",
    "        r2[i] = r2_score(y_hat, y) # added for the questions part of the prob set\n",
    "        \n",
    "        costs_per_iter[i] = compute_cost(y, y_hat)\n",
    "        \n",
    "        gradients = compute_gradient(y_hat, y, x)\n",
    "        \n",
    "        weights = update_weights(weights, gradients, a)\n",
    "        \n",
    "    return costs_per_iter, weights_per_iter, r2"
   ]
  },
  {
   "cell_type": "markdown",
   "id": "05a23c78",
   "metadata": {},
   "source": [
    "Using grad_descent"
   ]
  },
  {
   "cell_type": "markdown",
   "id": "15c124a9",
   "metadata": {},
   "source": [
    "The cost and weight matrices are shown."
   ]
  },
  {
   "cell_type": "code",
   "execution_count": 274,
   "id": "0d9dc69f",
   "metadata": {},
   "outputs": [
    {
     "name": "stdout",
     "output_type": "stream",
     "text": [
      "These are the costs (training): \n",
      "        costs\n",
      "0    0.717731\n",
      "1    0.702565\n",
      "2    0.687751\n",
      "3    0.673282\n",
      "4    0.659149\n",
      "..        ...\n",
      "795  0.050841\n",
      "796  0.050841\n",
      "797  0.050841\n",
      "798  0.050841\n",
      "799  0.050841\n",
      "\n",
      "[800 rows x 1 columns]\n",
      "\n",
      "These are the weights (training): \n",
      "           θ0        θ1        θ2        θ3\n",
      "0    0.873429  0.968541  0.869195  0.530856\n",
      "1    0.864455  0.965550  0.863824  0.525004\n",
      "2    0.855574  0.962598  0.858532  0.519225\n",
      "3    0.846784  0.959685  0.853316  0.513517\n",
      "4    0.838084  0.956809  0.848176  0.507879\n",
      "..        ...       ...       ...       ...\n",
      "795 -0.005590  0.747582  0.543509  0.012229\n",
      "796 -0.005593  0.747583  0.543517  0.012221\n",
      "797 -0.005596  0.747583  0.543524  0.012212\n",
      "798 -0.005600  0.747584  0.543532  0.012203\n",
      "799 -0.005603  0.747584  0.543539  0.012194\n",
      "\n",
      "[800 rows x 4 columns]\n",
      "\n",
      "These are the costs (testing): \n",
      "        costs\n",
      "0    0.752373\n",
      "1    0.735220\n",
      "2    0.718508\n",
      "3    0.702224\n",
      "4    0.686357\n",
      "..        ...\n",
      "795  0.049451\n",
      "796  0.049451\n",
      "797  0.049451\n",
      "798  0.049451\n",
      "799  0.049451\n",
      "\n",
      "[800 rows x 1 columns]\n",
      "\n",
      "These are the weights (testing): \n",
      "           θ0        θ1        θ2        θ3\n",
      "0    0.873429  0.968541  0.869195  0.530856\n",
      "1    0.865414  0.967004  0.864050  0.521935\n",
      "2    0.857475  0.965488  0.858982  0.513149\n",
      "3    0.849611  0.963991  0.853990  0.504496\n",
      "4    0.841821  0.962513  0.849071  0.495973\n",
      "..        ...       ...       ...       ...\n",
      "795  0.024508  0.782260  0.505636 -0.039936\n",
      "796  0.024501  0.782254  0.505634 -0.039933\n",
      "797  0.024495  0.782248  0.505632 -0.039930\n",
      "798  0.024488  0.782242  0.505629 -0.039927\n",
      "799  0.024481  0.782237  0.505627 -0.039924\n",
      "\n",
      "[800 rows x 4 columns]\n"
     ]
    }
   ],
   "source": [
    "num_iter = 800\n",
    "a = 0.01\n",
    "\n",
    "# train set\n",
    "costs_train, weights_train, r2_train = grad_descent(num_iter, y_train, x_train, a)\n",
    "\n",
    "print(\"These are the costs (training): \")\n",
    "costs_train_df = pd.DataFrame(costs_train)\n",
    "costs_train_df.rename(columns = {0:'costs'}, inplace = True)\n",
    "print(costs_train_df)\n",
    "\n",
    "print()\n",
    "\n",
    "print(\"These are the weights (training): \")\n",
    "weights_train_df = pd.DataFrame(weights_train)\n",
    "weights_train_df.rename(columns = {0:'θ0',\n",
    "                             1:'θ1',\n",
    "                             2:'θ2',\n",
    "                             3:'θ3'}, inplace = True)\n",
    "print(weights_train_df)\n",
    "\n",
    "print()\n",
    "\n",
    "# test set\n",
    "costs_test, weights_test, r2_test = grad_descent(num_iter, y_test, x_test, a)\n",
    "\n",
    "print(\"These are the costs (testing): \")\n",
    "costs_test_df = pd.DataFrame(costs_test)\n",
    "costs_test_df.rename(columns = {0:'costs'}, inplace = True)\n",
    "print(costs_test_df)\n",
    "\n",
    "print()\n",
    "\n",
    "print(\"These are the weights (testing): \")\n",
    "weights_test_df = pd.DataFrame(weights_test)\n",
    "weights_test_df.rename(columns = {0:'θ0',\n",
    "                             1:'θ1',\n",
    "                             2:'θ2',\n",
    "                             3:'θ3'}, inplace = True)\n",
    "print(weights_test_df)"
   ]
  },
  {
   "cell_type": "markdown",
   "id": "73f77994",
   "metadata": {},
   "source": [
    "#### 5.7 plot_costs"
   ]
  },
  {
   "cell_type": "code",
   "execution_count": 242,
   "id": "045fd252",
   "metadata": {},
   "outputs": [
    {
     "data": {
      "text/plain": [
       "Text(0, 0.5, 'Cost')"
      ]
     },
     "execution_count": 242,
     "metadata": {},
     "output_type": "execute_result"
    },
    {
     "data": {
      "image/png": "[encoded data removed]",
      "text/plain": [
       "<Figure size 432x288 with 1 Axes>"
      ]
     },
     "metadata": {
      "needs_background": "light"
     },
     "output_type": "display_data"
    }
   ],
   "source": [
    "plt.plot(costs_train_df)\n",
    "plt.xlabel(\"No. of iterations\")\n",
    "plt.ylabel(\"Cost\")"
   ]
  },
  {
   "cell_type": "markdown",
   "id": "2fd12ea5",
   "metadata": {},
   "source": [
    "## Part 2. Questions"
   ]
  },
  {
   "cell_type": "markdown",
   "id": "e09c0ab5",
   "metadata": {},
   "source": [
    "Scatter plot of y_hat and y"
   ]
  },
  {
   "cell_type": "code",
   "execution_count": 223,
   "id": "4655d8bf",
   "metadata": {},
   "outputs": [
    {
     "data": {
      "image/png": "[encoded data removed]",
      "text/plain": [
       "<Figure size 432x288 with 1 Axes>"
      ]
     },
     "metadata": {
      "needs_background": "light"
     },
     "output_type": "display_data"
    },
    {
     "data": {
      "image/png": "[encoded data removed]",
      "text/plain": [
       "<Figure size 432x288 with 1 Axes>"
      ]
     },
     "metadata": {
      "needs_background": "light"
     },
     "output_type": "display_data"
    }
   ],
   "source": [
    "weights = [-0.0058, 0.7476, 0.5441, 0.0115]\n",
    "\n",
    "# train set\n",
    "y_hat_train = predict(x_train, weights)\n",
    "plt.scatter(y_hat_train, y_train)\n",
    "plt.show()\n",
    "\n",
    "# test set\n",
    "y_hat_test = predict(x_test, weights)\n",
    "plt.scatter(y_hat_test, y_test)\n",
    "plt.show()"
   ]
  },
  {
   "cell_type": "markdown",
   "id": "a65b9a23",
   "metadata": {},
   "source": [
    "r2 scores"
   ]
  },
  {
   "cell_type": "code",
   "execution_count": 225,
   "id": "e37be08c",
   "metadata": {},
   "outputs": [
    {
     "data": {
      "text/plain": [
       "0.8846634083526498"
      ]
     },
     "execution_count": 225,
     "metadata": {},
     "output_type": "execute_result"
    }
   ],
   "source": [
    "r2_score(y_hat_train, y_train)"
   ]
  },
  {
   "cell_type": "code",
   "execution_count": 226,
   "id": "1e42fc9a",
   "metadata": {},
   "outputs": [
    {
     "data": {
      "text/plain": [
       "0.8842428941776628"
      ]
     },
     "execution_count": 226,
     "metadata": {},
     "output_type": "execute_result"
    }
   ],
   "source": [
    "r2_score(y_hat_test, y_test)"
   ]
  },
  {
   "cell_type": "markdown",
   "id": "c4cdaaf9",
   "metadata": {},
   "source": [
    "Plotting r2 and cost as the number of iterations increases"
   ]
  },
  {
   "cell_type": "markdown",
   "id": "79b3bb75",
   "metadata": {},
   "source": [
    "r2 and cost when iteration is 800"
   ]
  },
  {
   "cell_type": "code",
   "execution_count": 258,
   "id": "dd554e3b",
   "metadata": {},
   "outputs": [],
   "source": [
    "num_iter = 800\n",
    "a = 0.01\n",
    "costs_train, weights_train, r2_train = grad_descent(num_iter, y_train, x_train, a)"
   ]
  },
  {
   "cell_type": "code",
   "execution_count": 259,
   "id": "dc2dfacb",
   "metadata": {},
   "outputs": [
    {
     "data": {
      "text/plain": [
       "[<matplotlib.lines.Line2D at 0x1439ca9c730>]"
      ]
     },
     "execution_count": 259,
     "metadata": {},
     "output_type": "execute_result"
    },
    {
     "data": {
      "image/png": "[encoded data removed]",
      "text/plain": [
       "<Figure size 432x288 with 1 Axes>"
      ]
     },
     "metadata": {
      "needs_background": "light"
     },
     "output_type": "display_data"
    }
   ],
   "source": [
    "plt.plot(r2_train)"
   ]
  },
  {
   "cell_type": "code",
   "execution_count": 260,
   "id": "cf0deb69",
   "metadata": {},
   "outputs": [
    {
     "data": {
      "text/plain": [
       "[<matplotlib.lines.Line2D at 0x1439caeaf40>]"
      ]
     },
     "execution_count": 260,
     "metadata": {},
     "output_type": "execute_result"
    },
    {
     "data": {
      "image/png": "[encoded data removed]",
      "text/plain": [
       "<Figure size 432x288 with 1 Axes>"
      ]
     },
     "metadata": {
      "needs_background": "light"
     },
     "output_type": "display_data"
    }
   ],
   "source": [
    "plt.plot(costs_train)"
   ]
  },
  {
   "cell_type": "markdown",
   "id": "41b6973e",
   "metadata": {},
   "source": [
    "r2 and cost when iteration is 1000"
   ]
  },
  {
   "cell_type": "code",
   "execution_count": 261,
   "id": "eb789179",
   "metadata": {},
   "outputs": [],
   "source": [
    "num_iter = 1000\n",
    "a = 0.01\n",
    "costs_train, weights_train, r2_train = grad_descent(num_iter, y_train, x_train, a)"
   ]
  },
  {
   "cell_type": "code",
   "execution_count": 262,
   "id": "a9b51122",
   "metadata": {
    "scrolled": true
   },
   "outputs": [
    {
     "data": {
      "text/plain": [
       "[<matplotlib.lines.Line2D at 0x1439db1b460>]"
      ]
     },
     "execution_count": 262,
     "metadata": {},
     "output_type": "execute_result"
    },
    {
     "data": {
      "image/png": "[encoded data removed]",
      "text/plain": [
       "<Figure size 432x288 with 1 Axes>"
      ]
     },
     "metadata": {
      "needs_background": "light"
     },
     "output_type": "display_data"
    }
   ],
   "source": [
    "plt.plot(r2_train)"
   ]
  },
  {
   "cell_type": "code",
   "execution_count": 263,
   "id": "b0014502",
   "metadata": {},
   "outputs": [
    {
     "data": {
      "text/plain": [
       "[<matplotlib.lines.Line2D at 0x1439db64b20>]"
      ]
     },
     "execution_count": 263,
     "metadata": {},
     "output_type": "execute_result"
    },
    {
     "data": {
      "image/png": "[encoded data removed]",
      "text/plain": [
       "<Figure size 432x288 with 1 Axes>"
      ]
     },
     "metadata": {
      "needs_background": "light"
     },
     "output_type": "display_data"
    }
   ],
   "source": [
    "plt.plot(costs_train)"
   ]
  },
  {
   "cell_type": "markdown",
   "id": "2908bd99",
   "metadata": {},
   "source": [
    "r2 and cost when iteration is 2000"
   ]
  },
  {
   "cell_type": "code",
   "execution_count": 267,
   "id": "3c14cc7b",
   "metadata": {},
   "outputs": [],
   "source": [
    "num_iter = 2000\n",
    "a = 0.01\n",
    "costs_train, weights_train, r2_train = grad_descent(num_iter, y_train, x_train, a)"
   ]
  },
  {
   "cell_type": "code",
   "execution_count": 268,
   "id": "3e15a70d",
   "metadata": {},
   "outputs": [
    {
     "data": {
      "text/plain": [
       "[<matplotlib.lines.Line2D at 0x1439de026d0>]"
      ]
     },
     "execution_count": 268,
     "metadata": {},
     "output_type": "execute_result"
    },
    {
     "data": {
      "image/png": "[encoded data removed]",
      "text/plain": [
       "<Figure size 432x288 with 1 Axes>"
      ]
     },
     "metadata": {
      "needs_background": "light"
     },
     "output_type": "display_data"
    }
   ],
   "source": [
    "plt.plot(r2_train)"
   ]
  },
  {
   "cell_type": "code",
   "execution_count": 269,
   "id": "e244f304",
   "metadata": {},
   "outputs": [
    {
     "data": {
      "text/plain": [
       "[<matplotlib.lines.Line2D at 0x1439dbefee0>]"
      ]
     },
     "execution_count": 269,
     "metadata": {},
     "output_type": "execute_result"
    },
    {
     "data": {
      "image/png": "[encoded data removed]",
      "text/plain": [
       "<Figure size 432x288 with 1 Axes>"
      ]
     },
     "metadata": {
      "needs_background": "light"
     },
     "output_type": "display_data"
    }
   ],
   "source": [
    "plt.plot(costs_train)"
   ]
  },
  {
   "cell_type": "markdown",
   "id": "95df5510",
   "metadata": {},
   "source": [
    "Visualizing the cost function of each learning rate"
   ]
  },
  {
   "cell_type": "code",
   "execution_count": 320,
   "id": "f6c5507d",
   "metadata": {},
   "outputs": [],
   "source": [
    "num_iter = 1000\n",
    "costs_1, weights_1, r2_1 = grad_descent(num_iter, y_train, x_train, 0.1)\n",
    "costs_01, weights_01, r2_01 = grad_descent(num_iter, y_train, x_train, 0.01)\n",
    "costs_001, weights_001, r2_001 = grad_descent(num_iter, y_train, x_train, 0.001)\n",
    "costs_0001, weights_0001, r2_0001 = grad_descent(num_iter, y_train, x_train, 0.0001)\n",
    "costs_2, weights_2, r2_2 = grad_descent(num_iter, y_train, x_train, 0.2)"
   ]
  },
  {
   "cell_type": "code",
   "execution_count": 319,
   "id": "1011b290",
   "metadata": {},
   "outputs": [
    {
     "data": {
      "image/png": "[encoded data removed]",
      "text/plain": [
       "<Figure size 720x360 with 1 Axes>"
      ]
     },
     "metadata": {
      "needs_background": "light"
     },
     "output_type": "display_data"
    }
   ],
   "source": [
    "plt.figure(figsize=(10, 5))\n",
    "\n",
    "plt.plot(costs_1, label = '0.1')\n",
    "plt.plot(costs_01, label = '0.01')\n",
    "plt.plot(costs_001, label = '0.001')\n",
    "plt.plot(costs_0001, label = '0.0001')\n",
    "plt.plot(costs_2, label = '0.2')\n",
    "\n",
    "plt.title(\"Cost functions of different learning rates\")\n",
    "plt.xlabel(\"No. of iterations\")\n",
    "plt.ylabel(\"Cost\")\n",
    "\n",
    "plt.legend()\n",
    "plt.show()"
   ]
  }
 ],
 "metadata": {
  "kernelspec": {
   "display_name": "Python 3 (ipykernel)",
   "language": "python",
   "name": "python3"
  },
  "language_info": {
   "codemirror_mode": {
    "name": "ipython",
    "version": 3
   },
   "file_extension": ".py",
   "mimetype": "text/x-python",
   "name": "python",
   "nbconvert_exporter": "python",
   "pygments_lexer": "ipython3",
   "version": "3.9.12"
  }
 },
 "nbformat": 4,
 "nbformat_minor": 5
}
