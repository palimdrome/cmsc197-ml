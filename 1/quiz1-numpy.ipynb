{
 "cells": [
  {
   "cell_type": "markdown",
   "id": "e579afcb",
   "metadata": {},
   "source": [
    "# CMSC 197 - Machine Learning"
   ]
  },
  {
   "cell_type": "markdown",
   "id": "f43fc317",
   "metadata": {},
   "source": [
    "## Assignment 1: Introduction to Numerical Computing Using Python"
   ]
  },
  {
   "cell_type": "markdown",
   "id": "647b2cce",
   "metadata": {},
   "source": [
    "### Submitted by: Limuelle Alamil - BSCS IV - Section 1 "
   ]
  },
  {
   "cell_type": "markdown",
   "id": "8dfcc51e",
   "metadata": {},
   "source": [
    "## Part 1"
   ]
  },
  {
   "cell_type": "code",
   "execution_count": 2,
   "id": "62c0e0ad",
   "metadata": {},
   "outputs": [
    {
     "name": "stdout",
     "output_type": "stream",
     "text": [
      "%pylab is deprecated, use %matplotlib inline and import the required libraries.\n",
      "Populating the interactive namespace from numpy and matplotlib\n"
     ]
    }
   ],
   "source": [
    "%pylab inline"
   ]
  },
  {
   "cell_type": "markdown",
   "id": "8fc11d89",
   "metadata": {},
   "source": [
    "#### The first 1D array - ŷ"
   ]
  },
  {
   "cell_type": "code",
   "execution_count": 206,
   "id": "1cc35d57",
   "metadata": {},
   "outputs": [
    {
     "data": {
      "text/plain": [
       "array([-1.        , -0.89473684, -0.78947368, -0.68421053, -0.57894737,\n",
       "       -0.47368421, -0.36842105, -0.26315789, -0.15789474, -0.05263158,\n",
       "        0.05263158,  0.15789474,  0.26315789,  0.36842105,  0.47368421,\n",
       "        0.57894737,  0.68421053,  0.78947368,  0.89473684,  1.        ])"
      ]
     },
     "execution_count": 206,
     "metadata": {},
     "output_type": "execute_result"
    }
   ],
   "source": [
    "ŷ = np.linspace(-1, 1, num=20)\n",
    "ŷ"
   ]
  },
  {
   "cell_type": "markdown",
   "id": "556b1acd",
   "metadata": {},
   "source": [
    "#### The second 1D array - y "
   ]
  },
  {
   "cell_type": "code",
   "execution_count": 205,
   "id": "dcf58711",
   "metadata": {},
   "outputs": [
    {
     "data": {
      "text/plain": [
       "array([0.        , 0.05263158, 0.10526316, 0.15789474, 0.21052632,\n",
       "       0.26315789, 0.31578947, 0.36842105, 0.42105263, 0.47368421,\n",
       "       0.52631579, 0.57894737, 0.63157895, 0.68421053, 0.73684211,\n",
       "       0.78947368, 0.84210526, 0.89473684, 0.94736842, 1.        ])"
      ]
     },
     "execution_count": 205,
     "metadata": {},
     "output_type": "execute_result"
    }
   ],
   "source": [
    "y = np.linspace(0, 1, num=20)\n",
    "y"
   ]
  },
  {
   "cell_type": "markdown",
   "id": "4faaef31",
   "metadata": {},
   "source": [
    "#### Shape and dimension of ŷ"
   ]
  },
  {
   "cell_type": "code",
   "execution_count": 207,
   "id": "5e5e0cd1",
   "metadata": {},
   "outputs": [
    {
     "name": "stdout",
     "output_type": "stream",
     "text": [
      "The shape of ŷ is (20,).\n"
     ]
    }
   ],
   "source": [
    "print(\"The shape of ŷ is \" + str(ŷ.shape) + \".\")"
   ]
  },
  {
   "cell_type": "code",
   "execution_count": 208,
   "id": "686336c4",
   "metadata": {},
   "outputs": [
    {
     "name": "stdout",
     "output_type": "stream",
     "text": [
      "ŷ is 1-dimensional.\n"
     ]
    }
   ],
   "source": [
    "print(\"ŷ is \" + str(ŷ.ndim) + \"-dimensional.\")"
   ]
  },
  {
   "cell_type": "markdown",
   "id": "eb1c6838",
   "metadata": {},
   "source": [
    "#### Shape and dimension of y"
   ]
  },
  {
   "cell_type": "code",
   "execution_count": 209,
   "id": "3c49362a",
   "metadata": {},
   "outputs": [
    {
     "name": "stdout",
     "output_type": "stream",
     "text": [
      "The shape of y is (20,).\n"
     ]
    }
   ],
   "source": [
    "print(\"The shape of y is \" + str(y.shape) + \".\")"
   ]
  },
  {
   "cell_type": "code",
   "execution_count": 210,
   "id": "9e088e70",
   "metadata": {},
   "outputs": [
    {
     "name": "stdout",
     "output_type": "stream",
     "text": [
      "y is 1-dimensional.\n"
     ]
    }
   ],
   "source": [
    "print(\"y is \" + str(y.ndim) + \"-dimensional.\")"
   ]
  },
  {
   "cell_type": "markdown",
   "id": "55f0aa60",
   "metadata": {},
   "source": [
    "### Loss Functions"
   ]
  },
  {
   "cell_type": "markdown",
   "id": "ae346838",
   "metadata": {},
   "source": [
    "#### Mean Squared Error "
   ]
  },
  {
   "cell_type": "code",
   "execution_count": 211,
   "id": "5618d82d",
   "metadata": {},
   "outputs": [
    {
     "name": "stdout",
     "output_type": "stream",
     "text": [
      "MSE: 0.3421052631578948\n"
     ]
    }
   ],
   "source": [
    "def mse(ŷ, y):\n",
    "    loss = np.mean((ŷ - y) ** 2)\n",
    "    return loss\n",
    "\n",
    "print(\"MSE: \" + str(mse(ŷ, y)))"
   ]
  },
  {
   "cell_type": "markdown",
   "id": "3dced1d7",
   "metadata": {},
   "source": [
    "#### Mean Absolute Error"
   ]
  },
  {
   "cell_type": "code",
   "execution_count": 212,
   "id": "5aff0764",
   "metadata": {},
   "outputs": [
    {
     "name": "stdout",
     "output_type": "stream",
     "text": [
      "MAE: 0.4999999999999999\n"
     ]
    }
   ],
   "source": [
    "def mae(ŷ, y):\n",
    "    loss = np.mean(abs(ŷ - y))\n",
    "    return loss\n",
    "\n",
    "print(\"MAE: \" + str(mae(ŷ, y)))"
   ]
  },
  {
   "cell_type": "markdown",
   "id": "0c00f23f",
   "metadata": {},
   "source": [
    "#### Mean Squared Logarithmic Error"
   ]
  },
  {
   "cell_type": "code",
   "execution_count": 213,
   "id": "190fbac7",
   "metadata": {},
   "outputs": [
    {
     "name": "stdout",
     "output_type": "stream",
     "text": [
      "MSLE: ERROR: You cannot perform MSLE on negative targets.\n"
     ]
    }
   ],
   "source": [
    "def msle(ŷ, y):\n",
    "    num_of_neg_ŷ = (ŷ<0).sum() # number of negative values in ŷ\n",
    "    num_of_neg_y = (y<0).sum() # number of negative values in y\n",
    "    \n",
    "    # proceed to calculation if there are no negative values\n",
    "    if (num_of_neg_ŷ <= 0 and num_of_neg_y <= 0):\n",
    "        loss = np.mean((np.log10(ŷ + 1) - np.log10(y + 1)) ** 2)\n",
    "        return loss\n",
    "    # stop if there are negative values; log of negative values will result to Math Error\n",
    "    else:\n",
    "        return \"ERROR: You cannot perform MSLE on negative targets.\"\n",
    "    \n",
    "\n",
    "print(\"MSLE: \" + str(msle(ŷ, y)))"
   ]
  },
  {
   "cell_type": "markdown",
   "id": "0018e073",
   "metadata": {},
   "source": [
    "####  Mean Absolute Percentage Error"
   ]
  },
  {
   "cell_type": "code",
   "execution_count": 214,
   "id": "2ef16d3a",
   "metadata": {},
   "outputs": [
    {
     "name": "stdout",
     "output_type": "stream",
     "text": [
      "MAPE: ERROR: You cannot divide by 0.\n"
     ]
    }
   ],
   "source": [
    "def mape(ŷ, y):\n",
    "    num_of_neg_y = (y==0).sum() # number of 0s in y array\n",
    "    \n",
    "    # proceed to calculation if there are no 0s in y array\n",
    "    if (num_of_neg_y <= 0):\n",
    "        loss = np.mean(abs((ŷ - y) / y))\n",
    "        return format(loss, '.4%')\n",
    "    # stop if there are 0s in y array; we cannot divide by 0\n",
    "    else:\n",
    "        return \"ERROR: You cannot divide by 0.\"\n",
    "\n",
    "print(\"MAPE: \" + str(mape(ŷ, y)))"
   ]
  },
  {
   "cell_type": "markdown",
   "id": "84b1e44a",
   "metadata": {},
   "source": [
    "## Part 2 "
   ]
  },
  {
   "cell_type": "markdown",
   "id": "aa82da42",
   "metadata": {},
   "source": [
    "#### The 1D array M created using arange function"
   ]
  },
  {
   "cell_type": "code",
   "execution_count": 109,
   "id": "9169a0d7",
   "metadata": {},
   "outputs": [
    {
     "data": {
      "text/plain": [
       "array([ 1,  2,  3,  4,  5,  6,  7,  8,  9, 10, 11, 12, 13, 14, 15, 16])"
      ]
     },
     "execution_count": 109,
     "metadata": {},
     "output_type": "execute_result"
    }
   ],
   "source": [
    "M = np.arange(1, 17)\n",
    "M"
   ]
  },
  {
   "cell_type": "markdown",
   "id": "43d17f24",
   "metadata": {},
   "source": [
    "#### Reshaping M into a 4x4 array and transferring to N"
   ]
  },
  {
   "cell_type": "code",
   "execution_count": 136,
   "id": "f3023a7d",
   "metadata": {},
   "outputs": [
    {
     "data": {
      "text/plain": [
       "array([[ 1,  2,  3,  4],\n",
       "       [ 5,  6,  7,  8],\n",
       "       [ 9, 10, 11, 12],\n",
       "       [13, 14, 15, 16]])"
      ]
     },
     "execution_count": 136,
     "metadata": {},
     "output_type": "execute_result"
    }
   ],
   "source": [
    "N = M.reshape(4, 4)\n",
    "N"
   ]
  },
  {
   "cell_type": "markdown",
   "id": "621a315e",
   "metadata": {},
   "source": [
    "#### Getting the 2nd row of N "
   ]
  },
  {
   "cell_type": "code",
   "execution_count": 111,
   "id": "89ded069",
   "metadata": {},
   "outputs": [
    {
     "data": {
      "text/plain": [
       "array([5, 6, 7, 8])"
      ]
     },
     "execution_count": 111,
     "metadata": {},
     "output_type": "execute_result"
    }
   ],
   "source": [
    "N[1, 0:4]"
   ]
  },
  {
   "cell_type": "markdown",
   "id": "0696ad04",
   "metadata": {},
   "source": [
    "#### Getting the minimum values for each column of N "
   ]
  },
  {
   "cell_type": "code",
   "execution_count": 139,
   "id": "3bb4740f",
   "metadata": {},
   "outputs": [
    {
     "data": {
      "text/plain": [
       "array([ 1,  5,  9, 13])"
      ]
     },
     "execution_count": 139,
     "metadata": {},
     "output_type": "execute_result"
    }
   ],
   "source": [
    "np.min(N, axis = 1)"
   ]
  },
  {
   "cell_type": "markdown",
   "id": "6c15a30a",
   "metadata": {},
   "source": [
    "<p>Here's a prettier way to present the minimum values of each row without using the axis.</p>"
   ]
  },
  {
   "cell_type": "code",
   "execution_count": 138,
   "id": "92e4b0ff",
   "metadata": {},
   "outputs": [
    {
     "name": "stdout",
     "output_type": "stream",
     "text": [
      "The min value in row 1 is: 1.\n",
      "The min value in row 2 is: 5.\n",
      "The min value in row 3 is: 9.\n",
      "The min value in row 4 is: 13.\n"
     ]
    }
   ],
   "source": [
    "def colmin(N):\n",
    "    row, col = N.shape\n",
    "    for i in range(row):\n",
    "        print(\"The min value in row \" + str(i + 1) + \" is: \" + str(np.min(N[i, 0:col])) + \".\")\n",
    "\n",
    "colmin(N)"
   ]
  },
  {
   "cell_type": "markdown",
   "id": "4cbdac37",
   "metadata": {},
   "source": [
    "#### The location of the minimum value of every row "
   ]
  },
  {
   "cell_type": "code",
   "execution_count": 140,
   "id": "80906f6b",
   "metadata": {},
   "outputs": [
    {
     "name": "stdout",
     "output_type": "stream",
     "text": [
      "Row 0's min value is located at (0, 0).\n",
      "Row 1's min value is located at (1, 0).\n",
      "Row 2's min value is located at (2, 0).\n",
      "Row 3's min value is located at (3, 0).\n"
     ]
    }
   ],
   "source": [
    "def colmin_loc(N):\n",
    "    row, col = N.shape\n",
    "    for i in range(row):\n",
    "        # the row\n",
    "        row_arr = N[i, 0:col]\n",
    "        # location of min value on the y-axis\n",
    "        loc_in_row = i\n",
    "        # location of min value on the x-axis\n",
    "        loc_in_col = np.argmin(row_arr)\n",
    "        # location of the min value\n",
    "        loc = (loc_in_row, loc_in_col)\n",
    "        print(\"Row \" + str(i) + \"'s min value is located at \" + str(loc) + \".\")\n",
    "\n",
    "colmin_loc(N)"
   ]
  },
  {
   "cell_type": "markdown",
   "id": "c28fe68f",
   "metadata": {},
   "source": [
    "#### Getting the average of the matrix N "
   ]
  },
  {
   "cell_type": "code",
   "execution_count": 215,
   "id": "2e6b4d7e",
   "metadata": {},
   "outputs": [
    {
     "name": "stdout",
     "output_type": "stream",
     "text": [
      "The average of matrix N is 8.5.\n"
     ]
    }
   ],
   "source": [
    "ave = np.average(N)\n",
    "print(\"The average of matrix N is \" + str(ave) + \".\")"
   ]
  },
  {
   "cell_type": "markdown",
   "id": "b6cc9db5",
   "metadata": {},
   "source": [
    "#### Creating the vector V "
   ]
  },
  {
   "cell_type": "code",
   "execution_count": 153,
   "id": "fd90c327",
   "metadata": {},
   "outputs": [
    {
     "data": {
      "text/plain": [
       "array([[1.],\n",
       "       [1.],\n",
       "       [1.],\n",
       "       [1.]])"
      ]
     },
     "execution_count": 153,
     "metadata": {},
     "output_type": "execute_result"
    }
   ],
   "source": [
    "V = np.ones((4, 1))\n",
    "V"
   ]
  },
  {
   "cell_type": "markdown",
   "id": "593b9fb0",
   "metadata": {},
   "source": [
    "#### Dot product of N and V "
   ]
  },
  {
   "cell_type": "code",
   "execution_count": 154,
   "id": "485809bc",
   "metadata": {},
   "outputs": [
    {
     "data": {
      "text/plain": [
       "array([[10.],\n",
       "       [26.],\n",
       "       [42.],\n",
       "       [58.]])"
      ]
     },
     "execution_count": 154,
     "metadata": {},
     "output_type": "execute_result"
    }
   ],
   "source": [
    "np.dot(N, V)"
   ]
  },
  {
   "cell_type": "code",
   "execution_count": null,
   "id": "44c625b2",
   "metadata": {},
   "outputs": [],
   "source": []
  }
 ],
 "metadata": {
  "kernelspec": {
   "display_name": "Python 3 (ipykernel)",
   "language": "python",
   "name": "python3"
  },
  "language_info": {
   "codemirror_mode": {
    "name": "ipython",
    "version": 3
   },
   "file_extension": ".py",
   "mimetype": "text/x-python",
   "name": "python",
   "nbconvert_exporter": "python",
   "pygments_lexer": "ipython3",
   "version": "3.9.12"
  }
 },
 "nbformat": 4,
 "nbformat_minor": 5
}
